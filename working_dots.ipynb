{
 "cells": [
  {
   "cell_type": "code",
   "execution_count": 165,
   "id": "b8130c56",
   "metadata": {},
   "outputs": [],
   "source": [
    "# import sys\n",
    "# print(sys.executable)\n",
    "# !{sys.executable} -m pip install d3blocks"
   ]
  },
  {
   "cell_type": "code",
   "execution_count": 166,
   "id": "31fd7905",
   "metadata": {},
   "outputs": [],
   "source": [
    "import numpy as np\n",
    "import matplotlib.pyplot as plt\n",
    "import pandas as pd\n"
   ]
  },
  {
   "cell_type": "code",
   "execution_count": 167,
   "id": "74f87d35",
   "metadata": {},
   "outputs": [],
   "source": [
    "df = pd.read_pickle('./stock_analysis.pkl')"
   ]
  },
  {
   "cell_type": "code",
   "execution_count": 168,
   "id": "765e2b97",
   "metadata": {},
   "outputs": [],
   "source": [
    "df_long = pd.read_csv('./bubbles_1.csv') #this version for main stock 3 set repeat\n",
    "df_long = pd.read_csv('./bubbles_2.csv') # this longer version for Eff_Type demos\n"
   ]
  },
  {
   "cell_type": "code",
   "execution_count": 169,
   "id": "fa3fcc56",
   "metadata": {},
   "outputs": [
    {
     "name": "stdout",
     "output_type": "stream",
     "text": [
      "               datetime  sample_id                           state Main_Stock  \\\n",
      "0   2026-01-01 00:00:00          1  remaining_below_baseline_stock  remaining   \n",
      "1   2026-01-01 00:00:00          2  remaining_below_baseline_stock  remaining   \n",
      "2   2026-01-01 00:00:00          3  remaining_below_baseline_stock  remaining   \n",
      "3   2026-01-01 00:00:00          4  remaining_below_baseline_stock  remaining   \n",
      "4   2026-01-01 00:00:00          5  remaining_below_baseline_stock  remaining   \n",
      "..                  ...        ...                             ...        ...   \n",
      "595 2026-01-01 00:00:50         96       remaining_efficient_stock  remaining   \n",
      "596 2026-01-01 00:00:50         97       remaining_efficient_stock  remaining   \n",
      "597 2026-01-01 00:00:50         98       remaining_efficient_stock  remaining   \n",
      "598 2026-01-01 00:00:50         99       remaining_efficient_stock  remaining   \n",
      "599 2026-01-01 00:00:50        100       remaining_efficient_stock  remaining   \n",
      "\n",
      "                 Eff_Type  \n",
      "0    below_baseline_stock  \n",
      "1    below_baseline_stock  \n",
      "2    below_baseline_stock  \n",
      "3    below_baseline_stock  \n",
      "4    below_baseline_stock  \n",
      "..                    ...  \n",
      "595       efficient_stock  \n",
      "596       efficient_stock  \n",
      "597       efficient_stock  \n",
      "598       efficient_stock  \n",
      "599       efficient_stock  \n",
      "\n",
      "[600 rows x 5 columns]\n"
     ]
    }
   ],
   "source": [
    "import pandas as pd\n",
    "from datetime import datetime, timedelta\n",
    "\n",
    "\n",
    "# Mapping 0 and 1 to specific datetime strings\n",
    "#have to do seconds as this is default\n",
    "datetime_map = {\n",
    "    0: '01-01-2026 00:00:00',\n",
    "    1: '01-01-2026 00:00:10',\n",
    "    2: '01-01-2026 00:00:20',\n",
    "    3: '01-01-2026 00:00:30',\n",
    "    4: '01-01-2026 00:00:40',\n",
    "    5: '01-01-2026 00:00:50',\n",
    "    6: '01-01-2026 00:00:60',\n",
    "}\n",
    "\n",
    "# Replace values and convert to datetime\n",
    "df_long['datetime'] = df_long['datetime'].map(datetime_map)\n",
    "df_long['datetime'] = pd.to_datetime(df_long['datetime'], format='%d-%m-%Y %H:%M:%S')\n",
    "\n",
    "# Display the transformed DataFrame\n",
    "print(df_long)\n",
    "\n"
   ]
  },
  {
   "cell_type": "code",
   "execution_count": 170,
   "id": "5c10b1ab",
   "metadata": {},
   "outputs": [],
   "source": [
    "\n",
    "#"
   ]
  },
  {
   "cell_type": "code",
   "execution_count": null,
   "id": "17d32a6e",
   "metadata": {},
   "outputs": [],
   "source": [
    "\n"
   ]
  },
  {
   "cell_type": "code",
   "execution_count": 171,
   "id": "d9e8497c",
   "metadata": {},
   "outputs": [],
   "source": [
    "from d3blocks import D3Blocks\n",
    "# import matplotlib.pyplot as plt\n",
    "\n",
    "# # Step 1: Create a color map for each unique Eff_Type\n",
    "eff_types = df_long['Eff_Type'].unique()\n",
    "cmap = plt.get_cmap('Set2')\n",
    "colors = cmap(range(len(eff_types)))\n",
    "\n",
    "# Convert RGBA to hex\n",
    "eff_type_colors = {\n",
    "    eff: '#{:02x}{:02x}{:02x}'.format(int(r*255), int(g*255), int(b*255))\n",
    "    for eff, (r, g, b, _) in zip(eff_types, colors)\n",
    "}\n",
    "\n",
    "# eff_type_colors_named = {\n",
    "#     'below_baseline_stock': 'medium aquamarine',   # ~#66c2a5\n",
    "#     'baseline_stock': 'coral',                     # ~#fc8d62\n",
    "#     'efficient_stock': 'light slate blue',         # ~#8da0cb\n",
    "#     'er_below_baseline_stock': 'orchid',           # ~#e78ac3\n",
    "#     'er_baseline_stock': 'yellow green',           # ~#a6d854\n",
    "#     'er_efficient_stock': 'lemon chiffon'          # ~#ffd92f\n",
    "# }\n",
    "\n",
    "# df_long['color'] = df_long['Eff_Type'].map(eff_type_colors_named)\n"
   ]
  },
  {
   "cell_type": "code",
   "execution_count": 172,
   "id": "95696f21",
   "metadata": {},
   "outputs": [
    {
     "name": "stderr",
     "output_type": "stream",
     "text": [
      "[25-09-2025 09:17:19] [d3blocks.d3blocks] [INFO] Cleaning edge_properties and config parameters..\n",
      "[25-09-2025 09:17:19] [d3blocks.d3blocks] [INFO] Cleaning edge_properties and config parameters..\n",
      "[25-09-2025 09:17:19] [d3blocks.d3blocks] [INFO] Initializing [Movingbubbles]\n",
      "[25-09-2025 09:17:19] [d3blocks.d3blocks] [INFO] filepath is set to [C:\\Users\\ANDREW~1.JOH\\AppData\\Local\\Temp\\d3blocks\\movingbubbles.html]\n",
      "[25-09-2025 09:17:19] [d3blocks.d3blocks] [INFO] Convert to DataFrame.\n",
      "[25-09-2025 09:17:19] [d3blocks.d3blocks] [INFO] Node properties are set.\n",
      "[25-09-2025 09:17:19] [d3blocks.d3blocks] [INFO] Standardizing input dataframe using method: [samplewise].\n",
      "[25-09-2025 09:17:19] [d3blocks.d3blocks] [INFO] Standardize method: [samplewise]\n",
      "100%|██████████| 100/100 [00:00<00:00, 773.15it/s]\n",
      "[25-09-2025 09:17:19] [d3blocks.d3blocks] [INFO] Set all nodes to size: 5\n",
      "[25-09-2025 09:17:19] [colourmap.colourmap] [WARNING] Colormap [Set1] can not create [100] unique colors! Available unique colors: [9].\n",
      "[25-09-2025 09:17:19] [d3blocks.d3blocks] [INFO] Edge properties are set.\n",
      "[25-09-2025 09:17:19] [d3blocks.d3blocks] [INFO] File already exists and will be overwritten: [C:\\Users\\ANDREW~1.JOH\\AppData\\Local\\Temp\\d3blocks\\movingbubbles.html]\n",
      "[25-09-2025 09:17:20] [d3blocks.d3blocks] [INFO] Open browser: C:\\Users\\ANDREW~1.JOH\\AppData\\Local\\Temp\\d3blocks\\movingbubbles.html\n"
     ]
    }
   ],
   "source": [
    "d3 = D3Blocks()\n",
    "\n",
    "d3.movingbubbles(\n",
    "    df_long,\n",
    "    datetime='datetime',\n",
    "    sample_id='sample_id',\n",
    "    state='Main_Stock',\n",
    "    #color=\"color\",\n",
    "    color_method='state',  # use color per sample_id\n",
    "\n",
    "    \n",
    "    #damper=0.1,  # smoother and slower movement\n",
    "    speed={\"stop\": 100000, \"slow\": 5000, \"medium\": 2000, \"fast\": 500},  # slower time progression\n",
    "    \n",
    "\n",
    "    filepath='movingbubbles.html'\n",
    ")"
   ]
  },
  {
   "cell_type": "code",
   "execution_count": 173,
   "id": "261cc04b",
   "metadata": {},
   "outputs": [
    {
     "name": "stderr",
     "output_type": "stream",
     "text": [
      "[25-09-2025 09:17:20] [d3blocks.d3blocks] [INFO] Cleaning edge_properties and config parameters..\n",
      "[25-09-2025 09:17:20] [d3blocks.d3blocks] [INFO] Cleaning edge_properties and config parameters..\n",
      "[25-09-2025 09:17:20] [d3blocks.d3blocks] [INFO] Initializing [Movingbubbles]\n",
      "[25-09-2025 09:17:20] [d3blocks.d3blocks] [INFO] filepath is set to [C:\\Users\\ANDREW~1.JOH\\AppData\\Local\\Temp\\d3blocks\\movingbubbles.html]\n",
      "[25-09-2025 09:17:20] [d3blocks.d3blocks] [INFO] Convert to DataFrame.\n",
      "[25-09-2025 09:17:20] [d3blocks.d3blocks] [INFO] Node properties are set.\n",
      "[25-09-2025 09:17:20] [d3blocks.d3blocks] [INFO] Standardizing input dataframe using method: [samplewise].\n",
      "[25-09-2025 09:17:20] [d3blocks.d3blocks] [INFO] Standardize method: [samplewise]\n",
      "100%|██████████| 100/100 [00:00<00:00, 641.44it/s]\n",
      "[25-09-2025 09:17:20] [d3blocks.d3blocks] [INFO] Set all nodes to size: 5\n",
      "[25-09-2025 09:17:20] [colourmap.colourmap] [WARNING] Colormap [Set1] can not create [100] unique colors! Available unique colors: [9].\n",
      "[25-09-2025 09:17:20] [d3blocks.d3blocks] [INFO] Edge properties are set.\n",
      "[25-09-2025 09:17:20] [d3blocks.d3blocks] [INFO] File already exists and will be overwritten: [C:\\Users\\ANDREW~1.JOH\\AppData\\Local\\Temp\\d3blocks\\movingbubbles.html]\n",
      "[25-09-2025 09:17:21] [d3blocks.d3blocks] [INFO] Open browser: C:\\Users\\ANDREW~1.JOH\\AppData\\Local\\Temp\\d3blocks\\movingbubbles.html\n"
     ]
    }
   ],
   "source": [
    "\n",
    "d3 = D3Blocks()\n",
    "\n",
    "d3.movingbubbles(\n",
    "    df_long,\n",
    "    datetime='datetime',\n",
    "    sample_id='sample_id',\n",
    "    state='state',\n",
    "    #color=\"color\",\n",
    "    color_method='state',  # use color per sample_id\n",
    "\n",
    "    \n",
    "    #damper=0.1,  # smoother and slower movement\n",
    "    speed={\"stop\": 100000, \"slow\": 5000, \"medium\": 2000, \"fast\": 500},  # slower time progression\n",
    "    \n",
    "\n",
    "    filepath='movingbubbles.html'\n",
    ")\n"
   ]
  },
  {
   "cell_type": "code",
   "execution_count": 174,
   "id": "e242aa30",
   "metadata": {},
   "outputs": [
    {
     "name": "stderr",
     "output_type": "stream",
     "text": [
      "[25-09-2025 09:17:21] [d3blocks.d3blocks] [INFO] Cleaning edge_properties and config parameters..\n",
      "[25-09-2025 09:17:21] [d3blocks.d3blocks] [INFO] Cleaning edge_properties and config parameters..\n",
      "[25-09-2025 09:17:21] [d3blocks.d3blocks] [INFO] Cleaning edge_properties and config parameters..\n",
      "[25-09-2025 09:17:21] [d3blocks.d3blocks] [INFO] Initializing [Movingbubbles]\n",
      "[25-09-2025 09:17:21] [d3blocks.d3blocks] [INFO] filepath is set to [C:\\Users\\ANDREW~1.JOH\\AppData\\Local\\Temp\\d3blocks\\movingbubbles.html]\n",
      "[25-09-2025 09:17:21] [d3blocks.d3blocks] [INFO] Convert to DataFrame.\n",
      "[25-09-2025 09:17:21] [d3blocks.d3blocks] [INFO] Node properties are set.\n",
      "[25-09-2025 09:17:21] [d3blocks.d3blocks] [INFO] Standardizing input dataframe using method: [samplewise].\n",
      "[25-09-2025 09:17:21] [d3blocks.d3blocks] [INFO] Standardize method: [samplewise]\n",
      "100%|██████████| 100/100 [00:00<00:00, 537.68it/s]\n",
      "[25-09-2025 09:17:21] [d3blocks.d3blocks] [INFO] Set all nodes to size: 5\n",
      "[25-09-2025 09:17:21] [d3blocks.d3blocks] [INFO] Edge properties are set.\n",
      "[25-09-2025 09:17:21] [d3blocks.d3blocks] [INFO] File already exists and will be overwritten: [C:\\Users\\ANDREW~1.JOH\\AppData\\Local\\Temp\\d3blocks\\movingbubbles.html]\n",
      "[25-09-2025 09:17:22] [d3blocks.d3blocks] [INFO] Open browser: C:\\Users\\ANDREW~1.JOH\\AppData\\Local\\Temp\\d3blocks\\movingbubbles.html\n"
     ]
    }
   ],
   "source": [
    "# this version is the efficiency type with the market initial as the color\n",
    "# \n",
    "d3 = D3Blocks()\n",
    "\n",
    "main_types = df_long['Main_Stock'].unique()\n",
    "cmap = plt.get_cmap('Set2')\n",
    "colors = cmap(range(len(main_types)))\n",
    "\n",
    "# Convert RGBA to hex\n",
    "main_type_colors = {\n",
    "    eff: '#{:02x}{:02x}{:02x}'.format(int(r*255), int(g*255), int(b*255))\n",
    "    for eff, (r, g, b, _) in zip(main_types, colors)\n",
    "}\n",
    "# Map colors based on eff_type\n",
    "df_long['color'] = df_long['Main_Stock'].map(main_type_colors)\n",
    "\n",
    "# Create the moving bubbles visualization\n",
    "d3 = D3Blocks()\n",
    "d3.movingbubbles(\n",
    "    df_long,\n",
    "    datetime='datetime',\n",
    "    sample_id='sample_id',\n",
    "    state='Main_Stock',#state='Eff_Type',\n",
    "    color='color',           # use the color column\n",
    "    color_method='state',     # color per sample_id\n",
    "    filepath='movingbubbles.html'\n",
    ")"
   ]
  },
  {
   "cell_type": "code",
   "execution_count": 175,
   "id": "0549478f",
   "metadata": {},
   "outputs": [
    {
     "data": {
      "application/vnd.microsoft.datawrangler.viewer.v0+json": {
       "columns": [
        {
         "name": "index",
         "rawType": "int64",
         "type": "integer"
        },
        {
         "name": "datetime",
         "rawType": "datetime64[ns]",
         "type": "datetime"
        },
        {
         "name": "sample_id",
         "rawType": "int64",
         "type": "integer"
        },
        {
         "name": "state",
         "rawType": "object",
         "type": "string"
        },
        {
         "name": "Main_Stock",
         "rawType": "object",
         "type": "string"
        },
        {
         "name": "Eff_Type",
         "rawType": "object",
         "type": "string"
        },
        {
         "name": "color",
         "rawType": "object",
         "type": "string"
        }
       ],
       "ref": "4dfc3e68-0a39-4315-b23f-bf5f07425018",
       "rows": [
        [
         "0",
         "2026-01-01 00:00:00",
         "1",
         "remaining_below_baseline_stock",
         "remaining",
         "below_baseline_stock",
         "#66c2a5"
        ],
        [
         "1",
         "2026-01-01 00:00:00",
         "2",
         "remaining_below_baseline_stock",
         "remaining",
         "below_baseline_stock",
         "#66c2a5"
        ],
        [
         "2",
         "2026-01-01 00:00:00",
         "3",
         "remaining_below_baseline_stock",
         "remaining",
         "below_baseline_stock",
         "#66c2a5"
        ],
        [
         "3",
         "2026-01-01 00:00:00",
         "4",
         "remaining_below_baseline_stock",
         "remaining",
         "below_baseline_stock",
         "#66c2a5"
        ],
        [
         "4",
         "2026-01-01 00:00:00",
         "5",
         "remaining_below_baseline_stock",
         "remaining",
         "below_baseline_stock",
         "#66c2a5"
        ],
        [
         "5",
         "2026-01-01 00:00:00",
         "6",
         "remaining_below_baseline_stock",
         "remaining",
         "below_baseline_stock",
         "#66c2a5"
        ],
        [
         "6",
         "2026-01-01 00:00:00",
         "7",
         "remaining_below_baseline_stock",
         "remaining",
         "below_baseline_stock",
         "#66c2a5"
        ],
        [
         "7",
         "2026-01-01 00:00:00",
         "8",
         "remaining_below_baseline_stock",
         "remaining",
         "below_baseline_stock",
         "#66c2a5"
        ],
        [
         "8",
         "2026-01-01 00:00:00",
         "9",
         "remaining_below_baseline_stock",
         "remaining",
         "below_baseline_stock",
         "#66c2a5"
        ],
        [
         "9",
         "2026-01-01 00:00:00",
         "10",
         "remaining_below_baseline_stock",
         "remaining",
         "below_baseline_stock",
         "#66c2a5"
        ],
        [
         "10",
         "2026-01-01 00:00:00",
         "11",
         "remaining_below_baseline_stock",
         "remaining",
         "below_baseline_stock",
         "#66c2a5"
        ],
        [
         "11",
         "2026-01-01 00:00:00",
         "12",
         "remaining_below_baseline_stock",
         "remaining",
         "below_baseline_stock",
         "#66c2a5"
        ],
        [
         "12",
         "2026-01-01 00:00:00",
         "13",
         "remaining_baseline_stock",
         "remaining",
         "baseline_stock",
         "#66c2a5"
        ],
        [
         "13",
         "2026-01-01 00:00:00",
         "14",
         "remaining_baseline_stock",
         "remaining",
         "baseline_stock",
         "#66c2a5"
        ],
        [
         "14",
         "2026-01-01 00:00:00",
         "15",
         "remaining_baseline_stock",
         "remaining",
         "baseline_stock",
         "#66c2a5"
        ],
        [
         "15",
         "2026-01-01 00:00:00",
         "16",
         "remaining_baseline_stock",
         "remaining",
         "baseline_stock",
         "#66c2a5"
        ],
        [
         "16",
         "2026-01-01 00:00:00",
         "17",
         "remaining_baseline_stock",
         "remaining",
         "baseline_stock",
         "#66c2a5"
        ],
        [
         "17",
         "2026-01-01 00:00:00",
         "18",
         "remaining_baseline_stock",
         "remaining",
         "baseline_stock",
         "#66c2a5"
        ],
        [
         "18",
         "2026-01-01 00:00:00",
         "19",
         "remaining_baseline_stock",
         "remaining",
         "baseline_stock",
         "#66c2a5"
        ],
        [
         "19",
         "2026-01-01 00:00:00",
         "20",
         "remaining_baseline_stock",
         "remaining",
         "baseline_stock",
         "#66c2a5"
        ],
        [
         "20",
         "2026-01-01 00:00:00",
         "21",
         "remaining_baseline_stock",
         "remaining",
         "baseline_stock",
         "#66c2a5"
        ],
        [
         "21",
         "2026-01-01 00:00:00",
         "22",
         "remaining_baseline_stock",
         "remaining",
         "baseline_stock",
         "#66c2a5"
        ],
        [
         "22",
         "2026-01-01 00:00:00",
         "23",
         "remaining_baseline_stock",
         "remaining",
         "baseline_stock",
         "#66c2a5"
        ],
        [
         "23",
         "2026-01-01 00:00:00",
         "24",
         "remaining_baseline_stock",
         "remaining",
         "baseline_stock",
         "#66c2a5"
        ],
        [
         "24",
         "2026-01-01 00:00:00",
         "25",
         "remaining_baseline_stock",
         "remaining",
         "baseline_stock",
         "#66c2a5"
        ],
        [
         "25",
         "2026-01-01 00:00:00",
         "26",
         "remaining_baseline_stock",
         "remaining",
         "baseline_stock",
         "#66c2a5"
        ],
        [
         "26",
         "2026-01-01 00:00:00",
         "27",
         "remaining_baseline_stock",
         "remaining",
         "baseline_stock",
         "#66c2a5"
        ],
        [
         "27",
         "2026-01-01 00:00:00",
         "28",
         "remaining_baseline_stock",
         "remaining",
         "baseline_stock",
         "#66c2a5"
        ],
        [
         "28",
         "2026-01-01 00:00:00",
         "29",
         "remaining_baseline_stock",
         "remaining",
         "baseline_stock",
         "#66c2a5"
        ],
        [
         "29",
         "2026-01-01 00:00:00",
         "30",
         "remaining_baseline_stock",
         "remaining",
         "baseline_stock",
         "#66c2a5"
        ],
        [
         "30",
         "2026-01-01 00:00:00",
         "31",
         "remaining_baseline_stock",
         "remaining",
         "baseline_stock",
         "#66c2a5"
        ],
        [
         "31",
         "2026-01-01 00:00:00",
         "32",
         "remaining_baseline_stock",
         "remaining",
         "baseline_stock",
         "#66c2a5"
        ],
        [
         "32",
         "2026-01-01 00:00:00",
         "33",
         "remaining_baseline_stock",
         "remaining",
         "baseline_stock",
         "#66c2a5"
        ],
        [
         "33",
         "2026-01-01 00:00:00",
         "34",
         "remaining_baseline_stock",
         "remaining",
         "baseline_stock",
         "#66c2a5"
        ],
        [
         "34",
         "2026-01-01 00:00:00",
         "35",
         "remaining_baseline_stock",
         "remaining",
         "baseline_stock",
         "#66c2a5"
        ],
        [
         "35",
         "2026-01-01 00:00:00",
         "36",
         "remaining_baseline_stock",
         "remaining",
         "baseline_stock",
         "#66c2a5"
        ],
        [
         "36",
         "2026-01-01 00:00:00",
         "37",
         "remaining_baseline_stock",
         "remaining",
         "baseline_stock",
         "#66c2a5"
        ],
        [
         "37",
         "2026-01-01 00:00:00",
         "38",
         "remaining_baseline_stock",
         "remaining",
         "baseline_stock",
         "#66c2a5"
        ],
        [
         "38",
         "2026-01-01 00:00:00",
         "39",
         "remaining_baseline_stock",
         "remaining",
         "baseline_stock",
         "#66c2a5"
        ],
        [
         "39",
         "2026-01-01 00:00:00",
         "40",
         "remaining_baseline_stock",
         "remaining",
         "baseline_stock",
         "#66c2a5"
        ],
        [
         "40",
         "2026-01-01 00:00:00",
         "41",
         "remaining_baseline_stock",
         "remaining",
         "baseline_stock",
         "#66c2a5"
        ],
        [
         "41",
         "2026-01-01 00:00:00",
         "42",
         "remaining_baseline_stock",
         "remaining",
         "baseline_stock",
         "#66c2a5"
        ],
        [
         "42",
         "2026-01-01 00:00:00",
         "43",
         "remaining_baseline_stock",
         "remaining",
         "baseline_stock",
         "#66c2a5"
        ],
        [
         "43",
         "2026-01-01 00:00:00",
         "44",
         "remaining_baseline_stock",
         "remaining",
         "baseline_stock",
         "#66c2a5"
        ],
        [
         "44",
         "2026-01-01 00:00:00",
         "45",
         "remaining_baseline_stock",
         "remaining",
         "baseline_stock",
         "#66c2a5"
        ],
        [
         "45",
         "2026-01-01 00:00:00",
         "46",
         "remaining_baseline_stock",
         "remaining",
         "baseline_stock",
         "#66c2a5"
        ],
        [
         "46",
         "2026-01-01 00:00:00",
         "47",
         "remaining_baseline_stock",
         "remaining",
         "baseline_stock",
         "#66c2a5"
        ],
        [
         "47",
         "2026-01-01 00:00:00",
         "48",
         "remaining_baseline_stock",
         "remaining",
         "baseline_stock",
         "#66c2a5"
        ],
        [
         "48",
         "2026-01-01 00:00:00",
         "49",
         "remaining_efficient_stock",
         "remaining",
         "efficient_stock",
         "#66c2a5"
        ],
        [
         "49",
         "2026-01-01 00:00:00",
         "50",
         "remaining_efficient_stock",
         "remaining",
         "efficient_stock",
         "#66c2a5"
        ]
       ],
       "shape": {
        "columns": 6,
        "rows": 600
       }
      },
      "text/html": [
       "<div>\n",
       "<style scoped>\n",
       "    .dataframe tbody tr th:only-of-type {\n",
       "        vertical-align: middle;\n",
       "    }\n",
       "\n",
       "    .dataframe tbody tr th {\n",
       "        vertical-align: top;\n",
       "    }\n",
       "\n",
       "    .dataframe thead th {\n",
       "        text-align: right;\n",
       "    }\n",
       "</style>\n",
       "<table border=\"1\" class=\"dataframe\">\n",
       "  <thead>\n",
       "    <tr style=\"text-align: right;\">\n",
       "      <th></th>\n",
       "      <th>datetime</th>\n",
       "      <th>sample_id</th>\n",
       "      <th>state</th>\n",
       "      <th>Main_Stock</th>\n",
       "      <th>Eff_Type</th>\n",
       "      <th>color</th>\n",
       "    </tr>\n",
       "  </thead>\n",
       "  <tbody>\n",
       "    <tr>\n",
       "      <th>0</th>\n",
       "      <td>2026-01-01 00:00:00</td>\n",
       "      <td>1</td>\n",
       "      <td>remaining_below_baseline_stock</td>\n",
       "      <td>remaining</td>\n",
       "      <td>below_baseline_stock</td>\n",
       "      <td>#66c2a5</td>\n",
       "    </tr>\n",
       "    <tr>\n",
       "      <th>1</th>\n",
       "      <td>2026-01-01 00:00:00</td>\n",
       "      <td>2</td>\n",
       "      <td>remaining_below_baseline_stock</td>\n",
       "      <td>remaining</td>\n",
       "      <td>below_baseline_stock</td>\n",
       "      <td>#66c2a5</td>\n",
       "    </tr>\n",
       "    <tr>\n",
       "      <th>2</th>\n",
       "      <td>2026-01-01 00:00:00</td>\n",
       "      <td>3</td>\n",
       "      <td>remaining_below_baseline_stock</td>\n",
       "      <td>remaining</td>\n",
       "      <td>below_baseline_stock</td>\n",
       "      <td>#66c2a5</td>\n",
       "    </tr>\n",
       "    <tr>\n",
       "      <th>3</th>\n",
       "      <td>2026-01-01 00:00:00</td>\n",
       "      <td>4</td>\n",
       "      <td>remaining_below_baseline_stock</td>\n",
       "      <td>remaining</td>\n",
       "      <td>below_baseline_stock</td>\n",
       "      <td>#66c2a5</td>\n",
       "    </tr>\n",
       "    <tr>\n",
       "      <th>4</th>\n",
       "      <td>2026-01-01 00:00:00</td>\n",
       "      <td>5</td>\n",
       "      <td>remaining_below_baseline_stock</td>\n",
       "      <td>remaining</td>\n",
       "      <td>below_baseline_stock</td>\n",
       "      <td>#66c2a5</td>\n",
       "    </tr>\n",
       "    <tr>\n",
       "      <th>...</th>\n",
       "      <td>...</td>\n",
       "      <td>...</td>\n",
       "      <td>...</td>\n",
       "      <td>...</td>\n",
       "      <td>...</td>\n",
       "      <td>...</td>\n",
       "    </tr>\n",
       "    <tr>\n",
       "      <th>595</th>\n",
       "      <td>2026-01-01 00:00:50</td>\n",
       "      <td>96</td>\n",
       "      <td>remaining_efficient_stock</td>\n",
       "      <td>remaining</td>\n",
       "      <td>efficient_stock</td>\n",
       "      <td>#66c2a5</td>\n",
       "    </tr>\n",
       "    <tr>\n",
       "      <th>596</th>\n",
       "      <td>2026-01-01 00:00:50</td>\n",
       "      <td>97</td>\n",
       "      <td>remaining_efficient_stock</td>\n",
       "      <td>remaining</td>\n",
       "      <td>efficient_stock</td>\n",
       "      <td>#66c2a5</td>\n",
       "    </tr>\n",
       "    <tr>\n",
       "      <th>597</th>\n",
       "      <td>2026-01-01 00:00:50</td>\n",
       "      <td>98</td>\n",
       "      <td>remaining_efficient_stock</td>\n",
       "      <td>remaining</td>\n",
       "      <td>efficient_stock</td>\n",
       "      <td>#66c2a5</td>\n",
       "    </tr>\n",
       "    <tr>\n",
       "      <th>598</th>\n",
       "      <td>2026-01-01 00:00:50</td>\n",
       "      <td>99</td>\n",
       "      <td>remaining_efficient_stock</td>\n",
       "      <td>remaining</td>\n",
       "      <td>efficient_stock</td>\n",
       "      <td>#66c2a5</td>\n",
       "    </tr>\n",
       "    <tr>\n",
       "      <th>599</th>\n",
       "      <td>2026-01-01 00:00:50</td>\n",
       "      <td>100</td>\n",
       "      <td>remaining_efficient_stock</td>\n",
       "      <td>remaining</td>\n",
       "      <td>efficient_stock</td>\n",
       "      <td>#66c2a5</td>\n",
       "    </tr>\n",
       "  </tbody>\n",
       "</table>\n",
       "<p>600 rows × 6 columns</p>\n",
       "</div>"
      ],
      "text/plain": [
       "               datetime  sample_id                           state Main_Stock  \\\n",
       "0   2026-01-01 00:00:00          1  remaining_below_baseline_stock  remaining   \n",
       "1   2026-01-01 00:00:00          2  remaining_below_baseline_stock  remaining   \n",
       "2   2026-01-01 00:00:00          3  remaining_below_baseline_stock  remaining   \n",
       "3   2026-01-01 00:00:00          4  remaining_below_baseline_stock  remaining   \n",
       "4   2026-01-01 00:00:00          5  remaining_below_baseline_stock  remaining   \n",
       "..                  ...        ...                             ...        ...   \n",
       "595 2026-01-01 00:00:50         96       remaining_efficient_stock  remaining   \n",
       "596 2026-01-01 00:00:50         97       remaining_efficient_stock  remaining   \n",
       "597 2026-01-01 00:00:50         98       remaining_efficient_stock  remaining   \n",
       "598 2026-01-01 00:00:50         99       remaining_efficient_stock  remaining   \n",
       "599 2026-01-01 00:00:50        100       remaining_efficient_stock  remaining   \n",
       "\n",
       "                 Eff_Type    color  \n",
       "0    below_baseline_stock  #66c2a5  \n",
       "1    below_baseline_stock  #66c2a5  \n",
       "2    below_baseline_stock  #66c2a5  \n",
       "3    below_baseline_stock  #66c2a5  \n",
       "4    below_baseline_stock  #66c2a5  \n",
       "..                    ...      ...  \n",
       "595       efficient_stock  #66c2a5  \n",
       "596       efficient_stock  #66c2a5  \n",
       "597       efficient_stock  #66c2a5  \n",
       "598       efficient_stock  #66c2a5  \n",
       "599       efficient_stock  #66c2a5  \n",
       "\n",
       "[600 rows x 6 columns]"
      ]
     },
     "execution_count": 175,
     "metadata": {},
     "output_type": "execute_result"
    }
   ],
   "source": [
    "df_long"
   ]
  }
 ],
 "metadata": {
  "kernelspec": {
   "display_name": "Python 3",
   "language": "python",
   "name": "python3"
  },
  "language_info": {
   "codemirror_mode": {
    "name": "ipython",
    "version": 3
   },
   "file_extension": ".py",
   "mimetype": "text/x-python",
   "name": "python",
   "nbconvert_exporter": "python",
   "pygments_lexer": "ipython3",
   "version": "3.12.4"
  }
 },
 "nbformat": 4,
 "nbformat_minor": 5
}
